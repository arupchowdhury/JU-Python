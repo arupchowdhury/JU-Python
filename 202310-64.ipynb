{
 "cells": [
  {
   "cell_type": "markdown",
   "id": "ac8e946b",
   "metadata": {},
   "source": [
    "#### Import Required Library"
   ]
  },
  {
   "cell_type": "code",
   "execution_count": 300,
   "id": "126ac3d5",
   "metadata": {},
   "outputs": [],
   "source": [
    "import numpy as np\n",
    "import pandas as pd\n",
    "from matplotlib import pyplot as plt\n",
    "import seaborn as sns\n",
    "from sklearn.model_selection import train_test_split\n",
    "from sklearn import linear_model\n",
    "from sklearn.metrics import mean_squared_error, mean_absolute_error, r2_score"
   ]
  },
  {
   "cell_type": "markdown",
   "id": "10c184f0",
   "metadata": {},
   "source": [
    "#### - Load Data Set"
   ]
  },
  {
   "cell_type": "code",
   "execution_count": 301,
   "id": "30c77ecb",
   "metadata": {},
   "outputs": [
    {
     "data": {
      "text/html": [
       "<div>\n",
       "<style scoped>\n",
       "    .dataframe tbody tr th:only-of-type {\n",
       "        vertical-align: middle;\n",
       "    }\n",
       "\n",
       "    .dataframe tbody tr th {\n",
       "        vertical-align: top;\n",
       "    }\n",
       "\n",
       "    .dataframe thead th {\n",
       "        text-align: right;\n",
       "    }\n",
       "</style>\n",
       "<table border=\"1\" class=\"dataframe\">\n",
       "  <thead>\n",
       "    <tr style=\"text-align: right;\">\n",
       "      <th></th>\n",
       "      <th>Posted On</th>\n",
       "      <th>BHK</th>\n",
       "      <th>Rent</th>\n",
       "      <th>Size</th>\n",
       "      <th>Floor</th>\n",
       "      <th>Area Type</th>\n",
       "      <th>Area Locality</th>\n",
       "      <th>City</th>\n",
       "      <th>Furnishing Status</th>\n",
       "      <th>Tenant Preferred</th>\n",
       "      <th>Bathroom</th>\n",
       "      <th>Point of Contact</th>\n",
       "    </tr>\n",
       "  </thead>\n",
       "  <tbody>\n",
       "    <tr>\n",
       "      <th>0</th>\n",
       "      <td>2022-05-18</td>\n",
       "      <td>2</td>\n",
       "      <td>10000</td>\n",
       "      <td>1100</td>\n",
       "      <td>Ground out of 2</td>\n",
       "      <td>Super Area</td>\n",
       "      <td>Bandel</td>\n",
       "      <td>Kolkata</td>\n",
       "      <td>Unfurnished</td>\n",
       "      <td>Bachelors/Family</td>\n",
       "      <td>2</td>\n",
       "      <td>Contact Owner</td>\n",
       "    </tr>\n",
       "    <tr>\n",
       "      <th>1</th>\n",
       "      <td>2022-05-13</td>\n",
       "      <td>2</td>\n",
       "      <td>20000</td>\n",
       "      <td>800</td>\n",
       "      <td>1 out of 3</td>\n",
       "      <td>Super Area</td>\n",
       "      <td>Phool Bagan, Kankurgachi</td>\n",
       "      <td>Kolkata</td>\n",
       "      <td>Semi-Furnished</td>\n",
       "      <td>Bachelors/Family</td>\n",
       "      <td>1</td>\n",
       "      <td>Contact Owner</td>\n",
       "    </tr>\n",
       "    <tr>\n",
       "      <th>2</th>\n",
       "      <td>2022-05-16</td>\n",
       "      <td>2</td>\n",
       "      <td>17000</td>\n",
       "      <td>1000</td>\n",
       "      <td>1 out of 3</td>\n",
       "      <td>Super Area</td>\n",
       "      <td>Salt Lake City Sector 2</td>\n",
       "      <td>Kolkata</td>\n",
       "      <td>Semi-Furnished</td>\n",
       "      <td>Bachelors/Family</td>\n",
       "      <td>1</td>\n",
       "      <td>Contact Owner</td>\n",
       "    </tr>\n",
       "    <tr>\n",
       "      <th>3</th>\n",
       "      <td>2022-07-04</td>\n",
       "      <td>2</td>\n",
       "      <td>10000</td>\n",
       "      <td>800</td>\n",
       "      <td>1 out of 2</td>\n",
       "      <td>Super Area</td>\n",
       "      <td>Dumdum Park</td>\n",
       "      <td>Kolkata</td>\n",
       "      <td>Unfurnished</td>\n",
       "      <td>Bachelors/Family</td>\n",
       "      <td>1</td>\n",
       "      <td>Contact Owner</td>\n",
       "    </tr>\n",
       "    <tr>\n",
       "      <th>4</th>\n",
       "      <td>2022-05-09</td>\n",
       "      <td>2</td>\n",
       "      <td>7500</td>\n",
       "      <td>850</td>\n",
       "      <td>1 out of 2</td>\n",
       "      <td>Carpet Area</td>\n",
       "      <td>South Dum Dum</td>\n",
       "      <td>Kolkata</td>\n",
       "      <td>Unfurnished</td>\n",
       "      <td>Bachelors</td>\n",
       "      <td>1</td>\n",
       "      <td>Contact Owner</td>\n",
       "    </tr>\n",
       "  </tbody>\n",
       "</table>\n",
       "</div>"
      ],
      "text/plain": [
       "    Posted On  BHK   Rent  Size            Floor    Area Type  \\\n",
       "0  2022-05-18    2  10000  1100  Ground out of 2   Super Area   \n",
       "1  2022-05-13    2  20000   800       1 out of 3   Super Area   \n",
       "2  2022-05-16    2  17000  1000       1 out of 3   Super Area   \n",
       "3  2022-07-04    2  10000   800       1 out of 2   Super Area   \n",
       "4  2022-05-09    2   7500   850       1 out of 2  Carpet Area   \n",
       "\n",
       "              Area Locality     City Furnishing Status  Tenant Preferred  \\\n",
       "0                    Bandel  Kolkata       Unfurnished  Bachelors/Family   \n",
       "1  Phool Bagan, Kankurgachi  Kolkata    Semi-Furnished  Bachelors/Family   \n",
       "2   Salt Lake City Sector 2  Kolkata    Semi-Furnished  Bachelors/Family   \n",
       "3               Dumdum Park  Kolkata       Unfurnished  Bachelors/Family   \n",
       "4             South Dum Dum  Kolkata       Unfurnished         Bachelors   \n",
       "\n",
       "   Bathroom Point of Contact  \n",
       "0         2    Contact Owner  \n",
       "1         1    Contact Owner  \n",
       "2         1    Contact Owner  \n",
       "3         1    Contact Owner  \n",
       "4         1    Contact Owner  "
      ]
     },
     "execution_count": 301,
     "metadata": {},
     "output_type": "execute_result"
    }
   ],
   "source": [
    "df=pd.read_csv('House_Rent_Dataset.csv')\n",
    "df.head()"
   ]
  },
  {
   "cell_type": "markdown",
   "id": "d6596de6",
   "metadata": {},
   "source": [
    "#### * Get details information of data set"
   ]
  },
  {
   "cell_type": "code",
   "execution_count": 200,
   "id": "ddc22b27",
   "metadata": {},
   "outputs": [
    {
     "name": "stdout",
     "output_type": "stream",
     "text": [
      "<class 'pandas.core.frame.DataFrame'>\n",
      "RangeIndex: 4746 entries, 0 to 4745\n",
      "Data columns (total 12 columns):\n",
      " #   Column             Non-Null Count  Dtype \n",
      "---  ------             --------------  ----- \n",
      " 0   Posted On          4746 non-null   object\n",
      " 1   BHK                4746 non-null   int64 \n",
      " 2   Rent               4746 non-null   int64 \n",
      " 3   Size               4746 non-null   int64 \n",
      " 4   Floor              4746 non-null   object\n",
      " 5   Area Type          4746 non-null   object\n",
      " 6   Area Locality      4746 non-null   object\n",
      " 7   City               4746 non-null   object\n",
      " 8   Furnishing Status  4746 non-null   object\n",
      " 9   Tenant Preferred   4746 non-null   object\n",
      " 10  Bathroom           4746 non-null   int64 \n",
      " 11  Point of Contact   4746 non-null   object\n",
      "dtypes: int64(4), object(8)\n",
      "memory usage: 445.1+ KB\n"
     ]
    }
   ],
   "source": [
    "df.info()"
   ]
  },
  {
   "cell_type": "code",
   "execution_count": 116,
   "id": "e89a220c",
   "metadata": {
    "scrolled": true
   },
   "outputs": [
    {
     "data": {
      "text/html": [
       "<div>\n",
       "<style scoped>\n",
       "    .dataframe tbody tr th:only-of-type {\n",
       "        vertical-align: middle;\n",
       "    }\n",
       "\n",
       "    .dataframe tbody tr th {\n",
       "        vertical-align: top;\n",
       "    }\n",
       "\n",
       "    .dataframe thead th {\n",
       "        text-align: right;\n",
       "    }\n",
       "</style>\n",
       "<table border=\"1\" class=\"dataframe\">\n",
       "  <thead>\n",
       "    <tr style=\"text-align: right;\">\n",
       "      <th></th>\n",
       "      <th>BHK</th>\n",
       "      <th>Rent</th>\n",
       "      <th>Size</th>\n",
       "      <th>Bathroom</th>\n",
       "    </tr>\n",
       "  </thead>\n",
       "  <tbody>\n",
       "    <tr>\n",
       "      <th>count</th>\n",
       "      <td>4746.000000</td>\n",
       "      <td>4.746000e+03</td>\n",
       "      <td>4746.000000</td>\n",
       "      <td>4746.000000</td>\n",
       "    </tr>\n",
       "    <tr>\n",
       "      <th>mean</th>\n",
       "      <td>2.083860</td>\n",
       "      <td>3.499345e+04</td>\n",
       "      <td>967.490729</td>\n",
       "      <td>1.965866</td>\n",
       "    </tr>\n",
       "    <tr>\n",
       "      <th>std</th>\n",
       "      <td>0.832256</td>\n",
       "      <td>7.810641e+04</td>\n",
       "      <td>634.202328</td>\n",
       "      <td>0.884532</td>\n",
       "    </tr>\n",
       "    <tr>\n",
       "      <th>min</th>\n",
       "      <td>1.000000</td>\n",
       "      <td>1.200000e+03</td>\n",
       "      <td>10.000000</td>\n",
       "      <td>1.000000</td>\n",
       "    </tr>\n",
       "    <tr>\n",
       "      <th>25%</th>\n",
       "      <td>2.000000</td>\n",
       "      <td>1.000000e+04</td>\n",
       "      <td>550.000000</td>\n",
       "      <td>1.000000</td>\n",
       "    </tr>\n",
       "    <tr>\n",
       "      <th>50%</th>\n",
       "      <td>2.000000</td>\n",
       "      <td>1.600000e+04</td>\n",
       "      <td>850.000000</td>\n",
       "      <td>2.000000</td>\n",
       "    </tr>\n",
       "    <tr>\n",
       "      <th>75%</th>\n",
       "      <td>3.000000</td>\n",
       "      <td>3.300000e+04</td>\n",
       "      <td>1200.000000</td>\n",
       "      <td>2.000000</td>\n",
       "    </tr>\n",
       "    <tr>\n",
       "      <th>max</th>\n",
       "      <td>6.000000</td>\n",
       "      <td>3.500000e+06</td>\n",
       "      <td>8000.000000</td>\n",
       "      <td>10.000000</td>\n",
       "    </tr>\n",
       "  </tbody>\n",
       "</table>\n",
       "</div>"
      ],
      "text/plain": [
       "               BHK          Rent         Size     Bathroom\n",
       "count  4746.000000  4.746000e+03  4746.000000  4746.000000\n",
       "mean      2.083860  3.499345e+04   967.490729     1.965866\n",
       "std       0.832256  7.810641e+04   634.202328     0.884532\n",
       "min       1.000000  1.200000e+03    10.000000     1.000000\n",
       "25%       2.000000  1.000000e+04   550.000000     1.000000\n",
       "50%       2.000000  1.600000e+04   850.000000     2.000000\n",
       "75%       3.000000  3.300000e+04  1200.000000     2.000000\n",
       "max       6.000000  3.500000e+06  8000.000000    10.000000"
      ]
     },
     "execution_count": 116,
     "metadata": {},
     "output_type": "execute_result"
    }
   ],
   "source": [
    "df.describe()"
   ]
  },
  {
   "cell_type": "code",
   "execution_count": 260,
   "id": "22ef8f41",
   "metadata": {},
   "outputs": [
    {
     "data": {
      "text/html": [
       "<div>\n",
       "<style scoped>\n",
       "    .dataframe tbody tr th:only-of-type {\n",
       "        vertical-align: middle;\n",
       "    }\n",
       "\n",
       "    .dataframe tbody tr th {\n",
       "        vertical-align: top;\n",
       "    }\n",
       "\n",
       "    .dataframe thead th {\n",
       "        text-align: right;\n",
       "    }\n",
       "</style>\n",
       "<table border=\"1\" class=\"dataframe\">\n",
       "  <thead>\n",
       "    <tr style=\"text-align: right;\">\n",
       "      <th></th>\n",
       "      <th>Posted On</th>\n",
       "      <th>BHK</th>\n",
       "      <th>Rent</th>\n",
       "      <th>Size</th>\n",
       "      <th>Floor</th>\n",
       "      <th>Area Type</th>\n",
       "      <th>Area Locality</th>\n",
       "      <th>City</th>\n",
       "      <th>Furnishing Status</th>\n",
       "      <th>Tenant Preferred</th>\n",
       "      <th>Bathroom</th>\n",
       "      <th>Point of Contact</th>\n",
       "    </tr>\n",
       "  </thead>\n",
       "  <tbody>\n",
       "    <tr>\n",
       "      <th>0</th>\n",
       "      <td>2022-05-18</td>\n",
       "      <td>2</td>\n",
       "      <td>10000</td>\n",
       "      <td>1100</td>\n",
       "      <td>Ground out of 2</td>\n",
       "      <td>Super Area</td>\n",
       "      <td>Bandel</td>\n",
       "      <td>Kolkata</td>\n",
       "      <td>Unfurnished</td>\n",
       "      <td>Bachelors/Family</td>\n",
       "      <td>2</td>\n",
       "      <td>Contact Owner</td>\n",
       "    </tr>\n",
       "    <tr>\n",
       "      <th>1</th>\n",
       "      <td>2022-05-13</td>\n",
       "      <td>2</td>\n",
       "      <td>20000</td>\n",
       "      <td>800</td>\n",
       "      <td>1 out of 3</td>\n",
       "      <td>Super Area</td>\n",
       "      <td>Phool Bagan, Kankurgachi</td>\n",
       "      <td>Kolkata</td>\n",
       "      <td>Semi-Furnished</td>\n",
       "      <td>Bachelors/Family</td>\n",
       "      <td>1</td>\n",
       "      <td>Contact Owner</td>\n",
       "    </tr>\n",
       "    <tr>\n",
       "      <th>2</th>\n",
       "      <td>2022-05-16</td>\n",
       "      <td>2</td>\n",
       "      <td>17000</td>\n",
       "      <td>1000</td>\n",
       "      <td>1 out of 3</td>\n",
       "      <td>Super Area</td>\n",
       "      <td>Salt Lake City Sector 2</td>\n",
       "      <td>Kolkata</td>\n",
       "      <td>Semi-Furnished</td>\n",
       "      <td>Bachelors/Family</td>\n",
       "      <td>1</td>\n",
       "      <td>Contact Owner</td>\n",
       "    </tr>\n",
       "    <tr>\n",
       "      <th>3</th>\n",
       "      <td>2022-07-04</td>\n",
       "      <td>2</td>\n",
       "      <td>10000</td>\n",
       "      <td>800</td>\n",
       "      <td>1 out of 2</td>\n",
       "      <td>Super Area</td>\n",
       "      <td>Dumdum Park</td>\n",
       "      <td>Kolkata</td>\n",
       "      <td>Unfurnished</td>\n",
       "      <td>Bachelors/Family</td>\n",
       "      <td>1</td>\n",
       "      <td>Contact Owner</td>\n",
       "    </tr>\n",
       "    <tr>\n",
       "      <th>4</th>\n",
       "      <td>2022-05-09</td>\n",
       "      <td>2</td>\n",
       "      <td>7500</td>\n",
       "      <td>850</td>\n",
       "      <td>1 out of 2</td>\n",
       "      <td>Carpet Area</td>\n",
       "      <td>South Dum Dum</td>\n",
       "      <td>Kolkata</td>\n",
       "      <td>Unfurnished</td>\n",
       "      <td>Bachelors</td>\n",
       "      <td>1</td>\n",
       "      <td>Contact Owner</td>\n",
       "    </tr>\n",
       "    <tr>\n",
       "      <th>...</th>\n",
       "      <td>...</td>\n",
       "      <td>...</td>\n",
       "      <td>...</td>\n",
       "      <td>...</td>\n",
       "      <td>...</td>\n",
       "      <td>...</td>\n",
       "      <td>...</td>\n",
       "      <td>...</td>\n",
       "      <td>...</td>\n",
       "      <td>...</td>\n",
       "      <td>...</td>\n",
       "      <td>...</td>\n",
       "    </tr>\n",
       "    <tr>\n",
       "      <th>4741</th>\n",
       "      <td>2022-05-18</td>\n",
       "      <td>2</td>\n",
       "      <td>15000</td>\n",
       "      <td>1000</td>\n",
       "      <td>3 out of 5</td>\n",
       "      <td>Carpet Area</td>\n",
       "      <td>Bandam Kommu</td>\n",
       "      <td>Hyderabad</td>\n",
       "      <td>Semi-Furnished</td>\n",
       "      <td>Bachelors/Family</td>\n",
       "      <td>2</td>\n",
       "      <td>Contact Owner</td>\n",
       "    </tr>\n",
       "    <tr>\n",
       "      <th>4742</th>\n",
       "      <td>2022-05-15</td>\n",
       "      <td>3</td>\n",
       "      <td>29000</td>\n",
       "      <td>2000</td>\n",
       "      <td>1 out of 4</td>\n",
       "      <td>Super Area</td>\n",
       "      <td>Manikonda, Hyderabad</td>\n",
       "      <td>Hyderabad</td>\n",
       "      <td>Semi-Furnished</td>\n",
       "      <td>Bachelors/Family</td>\n",
       "      <td>3</td>\n",
       "      <td>Contact Owner</td>\n",
       "    </tr>\n",
       "    <tr>\n",
       "      <th>4743</th>\n",
       "      <td>2022-07-10</td>\n",
       "      <td>3</td>\n",
       "      <td>35000</td>\n",
       "      <td>1750</td>\n",
       "      <td>3 out of 5</td>\n",
       "      <td>Carpet Area</td>\n",
       "      <td>Himayath Nagar, NH 7</td>\n",
       "      <td>Hyderabad</td>\n",
       "      <td>Semi-Furnished</td>\n",
       "      <td>Bachelors/Family</td>\n",
       "      <td>3</td>\n",
       "      <td>Contact Agent</td>\n",
       "    </tr>\n",
       "    <tr>\n",
       "      <th>4744</th>\n",
       "      <td>2022-07-06</td>\n",
       "      <td>3</td>\n",
       "      <td>45000</td>\n",
       "      <td>1500</td>\n",
       "      <td>23 out of 34</td>\n",
       "      <td>Carpet Area</td>\n",
       "      <td>Gachibowli</td>\n",
       "      <td>Hyderabad</td>\n",
       "      <td>Semi-Furnished</td>\n",
       "      <td>Family</td>\n",
       "      <td>2</td>\n",
       "      <td>Contact Agent</td>\n",
       "    </tr>\n",
       "    <tr>\n",
       "      <th>4745</th>\n",
       "      <td>2022-05-04</td>\n",
       "      <td>2</td>\n",
       "      <td>15000</td>\n",
       "      <td>1000</td>\n",
       "      <td>4 out of 5</td>\n",
       "      <td>Carpet Area</td>\n",
       "      <td>Suchitra Circle</td>\n",
       "      <td>Hyderabad</td>\n",
       "      <td>Unfurnished</td>\n",
       "      <td>Bachelors</td>\n",
       "      <td>2</td>\n",
       "      <td>Contact Owner</td>\n",
       "    </tr>\n",
       "  </tbody>\n",
       "</table>\n",
       "<p>4746 rows × 12 columns</p>\n",
       "</div>"
      ],
      "text/plain": [
       "       Posted On  BHK   Rent  Size            Floor    Area Type  \\\n",
       "0     2022-05-18    2  10000  1100  Ground out of 2   Super Area   \n",
       "1     2022-05-13    2  20000   800       1 out of 3   Super Area   \n",
       "2     2022-05-16    2  17000  1000       1 out of 3   Super Area   \n",
       "3     2022-07-04    2  10000   800       1 out of 2   Super Area   \n",
       "4     2022-05-09    2   7500   850       1 out of 2  Carpet Area   \n",
       "...          ...  ...    ...   ...              ...          ...   \n",
       "4741  2022-05-18    2  15000  1000       3 out of 5  Carpet Area   \n",
       "4742  2022-05-15    3  29000  2000       1 out of 4   Super Area   \n",
       "4743  2022-07-10    3  35000  1750       3 out of 5  Carpet Area   \n",
       "4744  2022-07-06    3  45000  1500     23 out of 34  Carpet Area   \n",
       "4745  2022-05-04    2  15000  1000       4 out of 5  Carpet Area   \n",
       "\n",
       "                 Area Locality       City Furnishing Status  Tenant Preferred  \\\n",
       "0                       Bandel    Kolkata       Unfurnished  Bachelors/Family   \n",
       "1     Phool Bagan, Kankurgachi    Kolkata    Semi-Furnished  Bachelors/Family   \n",
       "2      Salt Lake City Sector 2    Kolkata    Semi-Furnished  Bachelors/Family   \n",
       "3                  Dumdum Park    Kolkata       Unfurnished  Bachelors/Family   \n",
       "4                South Dum Dum    Kolkata       Unfurnished         Bachelors   \n",
       "...                        ...        ...               ...               ...   \n",
       "4741              Bandam Kommu  Hyderabad    Semi-Furnished  Bachelors/Family   \n",
       "4742      Manikonda, Hyderabad  Hyderabad    Semi-Furnished  Bachelors/Family   \n",
       "4743      Himayath Nagar, NH 7  Hyderabad    Semi-Furnished  Bachelors/Family   \n",
       "4744                Gachibowli  Hyderabad    Semi-Furnished            Family   \n",
       "4745           Suchitra Circle  Hyderabad       Unfurnished         Bachelors   \n",
       "\n",
       "      Bathroom Point of Contact  \n",
       "0            2    Contact Owner  \n",
       "1            1    Contact Owner  \n",
       "2            1    Contact Owner  \n",
       "3            1    Contact Owner  \n",
       "4            1    Contact Owner  \n",
       "...        ...              ...  \n",
       "4741         2    Contact Owner  \n",
       "4742         3    Contact Owner  \n",
       "4743         3    Contact Agent  \n",
       "4744         2    Contact Agent  \n",
       "4745         2    Contact Owner  \n",
       "\n",
       "[4746 rows x 12 columns]"
      ]
     },
     "execution_count": 260,
     "metadata": {},
     "output_type": "execute_result"
    }
   ],
   "source": [
    "# df=df[df.BHK>3]\n",
    "df"
   ]
  },
  {
   "cell_type": "markdown",
   "id": "17cdcbc9",
   "metadata": {},
   "source": [
    "#### Draw regrassion curve to to visualize the dataset and understand the outlier"
   ]
  },
  {
   "cell_type": "code",
   "execution_count": 299,
   "id": "eeae1d10",
   "metadata": {
    "scrolled": true
   },
   "outputs": [
    {
     "data": {
      "image/png": "[encoded data removed]",
      "text/plain": [
       "<Figure size 1050x350 with 2 Axes>"
      ]
     },
     "metadata": {},
     "output_type": "display_data"
    }
   ],
   "source": [
    "fig, axes = plt.subplots(1, 2)\n",
    "fig.set_size_inches(10.5, 3.5)\n",
    "sns.regplot(data=df,x=df[['BHK']],y=df['Rent'],ax=axes[0],color='green')\n",
    "sns.regplot(data=df,x=df['Size'],y=df['Rent'],ax=axes[1])\n",
    "sns.despine()\n"
   ]
  },
  {
   "cell_type": "markdown",
   "id": "26bca0a0",
   "metadata": {},
   "source": [
    "### Outlier detection technique"
   ]
  },
  {
   "cell_type": "code",
   "execution_count": 302,
   "id": "741ffcbe",
   "metadata": {
    "scrolled": true
   },
   "outputs": [
    {
     "name": "stdout",
     "output_type": "stream",
     "text": [
      "Height:  67500.0\n",
      "Lowest:  -24500.0\n"
     ]
    }
   ],
   "source": [
    "from scipy import stats\n",
    "import math as mt\n",
    "\n",
    "Q1 = df.Rent.quantile(0.25)\n",
    "Q3 = df.Rent.quantile(0.75)\n",
    "IQR = Q3 - Q1\n",
    "lower = Q1 - 1.5*IQR\n",
    "upper = Q3 + 1.5*IQR\n",
    "\n",
    "\n",
    "print('Height: ',upper)\n",
    "print('Lowest: ',lower)"
   ]
  },
  {
   "cell_type": "code",
   "execution_count": 140,
   "id": "cb2840b1",
   "metadata": {},
   "outputs": [
    {
     "data": {
      "text/html": [
       "<div>\n",
       "<style scoped>\n",
       "    .dataframe tbody tr th:only-of-type {\n",
       "        vertical-align: middle;\n",
       "    }\n",
       "\n",
       "    .dataframe tbody tr th {\n",
       "        vertical-align: top;\n",
       "    }\n",
       "\n",
       "    .dataframe thead th {\n",
       "        text-align: right;\n",
       "    }\n",
       "</style>\n",
       "<table border=\"1\" class=\"dataframe\">\n",
       "  <thead>\n",
       "    <tr style=\"text-align: right;\">\n",
       "      <th></th>\n",
       "      <th>Posted On</th>\n",
       "      <th>BHK</th>\n",
       "      <th>Rent</th>\n",
       "      <th>Size</th>\n",
       "      <th>Floor</th>\n",
       "      <th>Area Type</th>\n",
       "      <th>Area Locality</th>\n",
       "      <th>City</th>\n",
       "      <th>Furnishing Status</th>\n",
       "      <th>Tenant Preferred</th>\n",
       "      <th>Bathroom</th>\n",
       "      <th>Point of Contact</th>\n",
       "    </tr>\n",
       "  </thead>\n",
       "  <tbody>\n",
       "    <tr>\n",
       "      <th>0</th>\n",
       "      <td>2022-05-18</td>\n",
       "      <td>2</td>\n",
       "      <td>10000.0</td>\n",
       "      <td>1100</td>\n",
       "      <td>Ground out of 2</td>\n",
       "      <td>Super Area</td>\n",
       "      <td>Bandel</td>\n",
       "      <td>Kolkata</td>\n",
       "      <td>Unfurnished</td>\n",
       "      <td>Bachelors/Family</td>\n",
       "      <td>2</td>\n",
       "      <td>Contact Owner</td>\n",
       "    </tr>\n",
       "    <tr>\n",
       "      <th>1</th>\n",
       "      <td>2022-05-13</td>\n",
       "      <td>2</td>\n",
       "      <td>20000.0</td>\n",
       "      <td>800</td>\n",
       "      <td>1 out of 3</td>\n",
       "      <td>Super Area</td>\n",
       "      <td>Phool Bagan, Kankurgachi</td>\n",
       "      <td>Kolkata</td>\n",
       "      <td>Semi-Furnished</td>\n",
       "      <td>Bachelors/Family</td>\n",
       "      <td>1</td>\n",
       "      <td>Contact Owner</td>\n",
       "    </tr>\n",
       "    <tr>\n",
       "      <th>2</th>\n",
       "      <td>2022-05-16</td>\n",
       "      <td>2</td>\n",
       "      <td>17000.0</td>\n",
       "      <td>1000</td>\n",
       "      <td>1 out of 3</td>\n",
       "      <td>Super Area</td>\n",
       "      <td>Salt Lake City Sector 2</td>\n",
       "      <td>Kolkata</td>\n",
       "      <td>Semi-Furnished</td>\n",
       "      <td>Bachelors/Family</td>\n",
       "      <td>1</td>\n",
       "      <td>Contact Owner</td>\n",
       "    </tr>\n",
       "    <tr>\n",
       "      <th>3</th>\n",
       "      <td>2022-07-04</td>\n",
       "      <td>2</td>\n",
       "      <td>10000.0</td>\n",
       "      <td>800</td>\n",
       "      <td>1 out of 2</td>\n",
       "      <td>Super Area</td>\n",
       "      <td>Dumdum Park</td>\n",
       "      <td>Kolkata</td>\n",
       "      <td>Unfurnished</td>\n",
       "      <td>Bachelors/Family</td>\n",
       "      <td>1</td>\n",
       "      <td>Contact Owner</td>\n",
       "    </tr>\n",
       "    <tr>\n",
       "      <th>4</th>\n",
       "      <td>2022-05-09</td>\n",
       "      <td>2</td>\n",
       "      <td>7500.0</td>\n",
       "      <td>850</td>\n",
       "      <td>1 out of 2</td>\n",
       "      <td>Carpet Area</td>\n",
       "      <td>South Dum Dum</td>\n",
       "      <td>Kolkata</td>\n",
       "      <td>Unfurnished</td>\n",
       "      <td>Bachelors</td>\n",
       "      <td>1</td>\n",
       "      <td>Contact Owner</td>\n",
       "    </tr>\n",
       "    <tr>\n",
       "      <th>...</th>\n",
       "      <td>...</td>\n",
       "      <td>...</td>\n",
       "      <td>...</td>\n",
       "      <td>...</td>\n",
       "      <td>...</td>\n",
       "      <td>...</td>\n",
       "      <td>...</td>\n",
       "      <td>...</td>\n",
       "      <td>...</td>\n",
       "      <td>...</td>\n",
       "      <td>...</td>\n",
       "      <td>...</td>\n",
       "    </tr>\n",
       "    <tr>\n",
       "      <th>4741</th>\n",
       "      <td>2022-05-18</td>\n",
       "      <td>2</td>\n",
       "      <td>15000.0</td>\n",
       "      <td>1000</td>\n",
       "      <td>3 out of 5</td>\n",
       "      <td>Carpet Area</td>\n",
       "      <td>Bandam Kommu</td>\n",
       "      <td>Hyderabad</td>\n",
       "      <td>Semi-Furnished</td>\n",
       "      <td>Bachelors/Family</td>\n",
       "      <td>2</td>\n",
       "      <td>Contact Owner</td>\n",
       "    </tr>\n",
       "    <tr>\n",
       "      <th>4742</th>\n",
       "      <td>2022-05-15</td>\n",
       "      <td>3</td>\n",
       "      <td>29000.0</td>\n",
       "      <td>2000</td>\n",
       "      <td>1 out of 4</td>\n",
       "      <td>Super Area</td>\n",
       "      <td>Manikonda, Hyderabad</td>\n",
       "      <td>Hyderabad</td>\n",
       "      <td>Semi-Furnished</td>\n",
       "      <td>Bachelors/Family</td>\n",
       "      <td>3</td>\n",
       "      <td>Contact Owner</td>\n",
       "    </tr>\n",
       "    <tr>\n",
       "      <th>4743</th>\n",
       "      <td>2022-07-10</td>\n",
       "      <td>3</td>\n",
       "      <td>35000.0</td>\n",
       "      <td>1750</td>\n",
       "      <td>3 out of 5</td>\n",
       "      <td>Carpet Area</td>\n",
       "      <td>Himayath Nagar, NH 7</td>\n",
       "      <td>Hyderabad</td>\n",
       "      <td>Semi-Furnished</td>\n",
       "      <td>Bachelors/Family</td>\n",
       "      <td>3</td>\n",
       "      <td>Contact Agent</td>\n",
       "    </tr>\n",
       "    <tr>\n",
       "      <th>4744</th>\n",
       "      <td>2022-07-06</td>\n",
       "      <td>3</td>\n",
       "      <td>45000.0</td>\n",
       "      <td>1500</td>\n",
       "      <td>23 out of 34</td>\n",
       "      <td>Carpet Area</td>\n",
       "      <td>Gachibowli</td>\n",
       "      <td>Hyderabad</td>\n",
       "      <td>Semi-Furnished</td>\n",
       "      <td>Family</td>\n",
       "      <td>2</td>\n",
       "      <td>Contact Agent</td>\n",
       "    </tr>\n",
       "    <tr>\n",
       "      <th>4745</th>\n",
       "      <td>2022-05-04</td>\n",
       "      <td>2</td>\n",
       "      <td>15000.0</td>\n",
       "      <td>1000</td>\n",
       "      <td>4 out of 5</td>\n",
       "      <td>Carpet Area</td>\n",
       "      <td>Suchitra Circle</td>\n",
       "      <td>Hyderabad</td>\n",
       "      <td>Unfurnished</td>\n",
       "      <td>Bachelors</td>\n",
       "      <td>2</td>\n",
       "      <td>Contact Owner</td>\n",
       "    </tr>\n",
       "  </tbody>\n",
       "</table>\n",
       "<p>4746 rows × 12 columns</p>\n",
       "</div>"
      ],
      "text/plain": [
       "       Posted On  BHK     Rent  Size            Floor    Area Type  \\\n",
       "0     2022-05-18    2  10000.0  1100  Ground out of 2   Super Area   \n",
       "1     2022-05-13    2  20000.0   800       1 out of 3   Super Area   \n",
       "2     2022-05-16    2  17000.0  1000       1 out of 3   Super Area   \n",
       "3     2022-07-04    2  10000.0   800       1 out of 2   Super Area   \n",
       "4     2022-05-09    2   7500.0   850       1 out of 2  Carpet Area   \n",
       "...          ...  ...      ...   ...              ...          ...   \n",
       "4741  2022-05-18    2  15000.0  1000       3 out of 5  Carpet Area   \n",
       "4742  2022-05-15    3  29000.0  2000       1 out of 4   Super Area   \n",
       "4743  2022-07-10    3  35000.0  1750       3 out of 5  Carpet Area   \n",
       "4744  2022-07-06    3  45000.0  1500     23 out of 34  Carpet Area   \n",
       "4745  2022-05-04    2  15000.0  1000       4 out of 5  Carpet Area   \n",
       "\n",
       "                 Area Locality       City Furnishing Status  Tenant Preferred  \\\n",
       "0                       Bandel    Kolkata       Unfurnished  Bachelors/Family   \n",
       "1     Phool Bagan, Kankurgachi    Kolkata    Semi-Furnished  Bachelors/Family   \n",
       "2      Salt Lake City Sector 2    Kolkata    Semi-Furnished  Bachelors/Family   \n",
       "3                  Dumdum Park    Kolkata       Unfurnished  Bachelors/Family   \n",
       "4                South Dum Dum    Kolkata       Unfurnished         Bachelors   \n",
       "...                        ...        ...               ...               ...   \n",
       "4741              Bandam Kommu  Hyderabad    Semi-Furnished  Bachelors/Family   \n",
       "4742      Manikonda, Hyderabad  Hyderabad    Semi-Furnished  Bachelors/Family   \n",
       "4743      Himayath Nagar, NH 7  Hyderabad    Semi-Furnished  Bachelors/Family   \n",
       "4744                Gachibowli  Hyderabad    Semi-Furnished            Family   \n",
       "4745           Suchitra Circle  Hyderabad       Unfurnished         Bachelors   \n",
       "\n",
       "      Bathroom Point of Contact  \n",
       "0            2    Contact Owner  \n",
       "1            1    Contact Owner  \n",
       "2            1    Contact Owner  \n",
       "3            1    Contact Owner  \n",
       "4            1    Contact Owner  \n",
       "...        ...              ...  \n",
       "4741         2    Contact Owner  \n",
       "4742         3    Contact Owner  \n",
       "4743         3    Contact Agent  \n",
       "4744         2    Contact Agent  \n",
       "4745         2    Contact Owner  \n",
       "\n",
       "[4746 rows x 12 columns]"
      ]
     },
     "execution_count": 140,
     "metadata": {},
     "output_type": "execute_result"
    }
   ],
   "source": [
    "df[(df.Rent<67500.0) | (df.Rent>-24500.0)]"
   ]
  },
  {
   "cell_type": "markdown",
   "id": "08d8a0af",
   "metadata": {},
   "source": [
    "####  Trimming of outliers"
   ]
  },
  {
   "cell_type": "code",
   "execution_count": 303,
   "id": "b87b4359",
   "metadata": {},
   "outputs": [
    {
     "name": "stdout",
     "output_type": "stream",
     "text": [
      "Upper array: 520\n",
      "Lower array: []\n"
     ]
    }
   ],
   "source": [
    "upper_array = np.where(df.Rent>=upper)[0]\n",
    "lower_array = np.where(df.Rent<=lower)[0]\n",
    "print('Upper array:',len(upper_array))\n",
    "print('Lower array:',lower_array)"
   ]
  },
  {
   "cell_type": "markdown",
   "id": "02f23d01",
   "metadata": {},
   "source": [
    "### Now, apply the capping"
   ]
  },
  {
   "cell_type": "code",
   "execution_count": 264,
   "id": "5f6cce17",
   "metadata": {},
   "outputs": [],
   "source": [
    "df.drop(index=upper_array, inplace=True)\n",
    "df.drop(index=lower_array, inplace=True)\n",
    "df_clean=df"
   ]
  },
  {
   "cell_type": "code",
   "execution_count": 265,
   "id": "4f71e283",
   "metadata": {},
   "outputs": [
    {
     "data": {
      "image/png": "[encoded data removed]",
      "text/plain": [
       "<Figure size 1050x350 with 2 Axes>"
      ]
     },
     "metadata": {},
     "output_type": "display_data"
    }
   ],
   "source": [
    "fig, axes = plt.subplots(1, 2)\n",
    "fig.set_size_inches(10.5, 3.5)\n",
    "sns.regplot(data=df_clean,x=df_clean[['BHK']],y=df_clean['Rent'],ax=axes[0],color='green')\n",
    "sns.regplot(data=df_clean,x=df_clean['Size'],y=df_clean['Rent'],ax=axes[1])\n",
    "sns.despine()"
   ]
  },
  {
   "cell_type": "code",
   "execution_count": 266,
   "id": "343663ab",
   "metadata": {},
   "outputs": [
    {
     "data": {
      "text/plain": [
       "(4226, 12)"
      ]
     },
     "execution_count": 266,
     "metadata": {},
     "output_type": "execute_result"
    }
   ],
   "source": [
    "df_clean.shape"
   ]
  },
  {
   "cell_type": "code",
   "execution_count": 267,
   "id": "fb8c4849",
   "metadata": {
    "scrolled": true
   },
   "outputs": [
    {
     "data": {
      "text/html": [
       "<div>\n",
       "<style scoped>\n",
       "    .dataframe tbody tr th:only-of-type {\n",
       "        vertical-align: middle;\n",
       "    }\n",
       "\n",
       "    .dataframe tbody tr th {\n",
       "        vertical-align: top;\n",
       "    }\n",
       "\n",
       "    .dataframe thead th {\n",
       "        text-align: right;\n",
       "    }\n",
       "</style>\n",
       "<table border=\"1\" class=\"dataframe\">\n",
       "  <thead>\n",
       "    <tr style=\"text-align: right;\">\n",
       "      <th></th>\n",
       "      <th>BHK</th>\n",
       "      <th>Rent</th>\n",
       "      <th>Size</th>\n",
       "      <th>Bathroom</th>\n",
       "    </tr>\n",
       "  </thead>\n",
       "  <tbody>\n",
       "    <tr>\n",
       "      <th>count</th>\n",
       "      <td>4226.000000</td>\n",
       "      <td>4226.000000</td>\n",
       "      <td>4226.000000</td>\n",
       "      <td>4226.000000</td>\n",
       "    </tr>\n",
       "    <tr>\n",
       "      <th>mean</th>\n",
       "      <td>1.960483</td>\n",
       "      <td>19286.162565</td>\n",
       "      <td>871.779224</td>\n",
       "      <td>1.806200</td>\n",
       "    </tr>\n",
       "    <tr>\n",
       "      <th>std</th>\n",
       "      <td>0.746178</td>\n",
       "      <td>13825.395996</td>\n",
       "      <td>485.779381</td>\n",
       "      <td>0.711075</td>\n",
       "    </tr>\n",
       "    <tr>\n",
       "      <th>min</th>\n",
       "      <td>1.000000</td>\n",
       "      <td>1200.000000</td>\n",
       "      <td>10.000000</td>\n",
       "      <td>1.000000</td>\n",
       "    </tr>\n",
       "    <tr>\n",
       "      <th>25%</th>\n",
       "      <td>1.000000</td>\n",
       "      <td>9500.000000</td>\n",
       "      <td>520.000000</td>\n",
       "      <td>1.000000</td>\n",
       "    </tr>\n",
       "    <tr>\n",
       "      <th>50%</th>\n",
       "      <td>2.000000</td>\n",
       "      <td>15000.000000</td>\n",
       "      <td>800.000000</td>\n",
       "      <td>2.000000</td>\n",
       "    </tr>\n",
       "    <tr>\n",
       "      <th>75%</th>\n",
       "      <td>2.000000</td>\n",
       "      <td>25000.000000</td>\n",
       "      <td>1100.000000</td>\n",
       "      <td>2.000000</td>\n",
       "    </tr>\n",
       "    <tr>\n",
       "      <th>max</th>\n",
       "      <td>6.000000</td>\n",
       "      <td>67000.000000</td>\n",
       "      <td>4200.000000</td>\n",
       "      <td>7.000000</td>\n",
       "    </tr>\n",
       "  </tbody>\n",
       "</table>\n",
       "</div>"
      ],
      "text/plain": [
       "               BHK          Rent         Size     Bathroom\n",
       "count  4226.000000   4226.000000  4226.000000  4226.000000\n",
       "mean      1.960483  19286.162565   871.779224     1.806200\n",
       "std       0.746178  13825.395996   485.779381     0.711075\n",
       "min       1.000000   1200.000000    10.000000     1.000000\n",
       "25%       1.000000   9500.000000   520.000000     1.000000\n",
       "50%       2.000000  15000.000000   800.000000     2.000000\n",
       "75%       2.000000  25000.000000  1100.000000     2.000000\n",
       "max       6.000000  67000.000000  4200.000000     7.000000"
      ]
     },
     "execution_count": 267,
     "metadata": {},
     "output_type": "execute_result"
    }
   ],
   "source": [
    "df_clean.describe()"
   ]
  },
  {
   "cell_type": "markdown",
   "id": "7e82a676",
   "metadata": {},
   "source": [
    "### Separating the features and target variable"
   ]
  },
  {
   "cell_type": "code",
   "execution_count": 268,
   "id": "268a764a",
   "metadata": {},
   "outputs": [
    {
     "name": "stdout",
     "output_type": "stream",
     "text": [
      "Shape of X =  (4226, 2)\n",
      "Shape of y =  (4226,)\n"
     ]
    }
   ],
   "source": [
    "X = df_clean.drop('Rent',axis = 1)[['BHK','Size']]\n",
    "y = df_clean['Rent']\n",
    "\n",
    "print(\"Shape of X = \", X.shape)\n",
    "print(\"Shape of y = \", y.shape)"
   ]
  },
  {
   "cell_type": "markdown",
   "id": "619546ec",
   "metadata": {},
   "source": [
    "#### Create train and test set"
   ]
  },
  {
   "cell_type": "code",
   "execution_count": 269,
   "id": "8d262131",
   "metadata": {},
   "outputs": [
    {
     "name": "stdout",
     "output_type": "stream",
     "text": [
      "(3380, 2) (846, 2) (3380,) (846,)\n"
     ]
    }
   ],
   "source": [
    "X_train, X_test, y_train, y_test = train_test_split(X, y,\n",
    "                                                    test_size=0.2, \n",
    "                                                    random_state=42)\n",
    "\n",
    "print(X_train.shape, X_test.shape, y_train.shape, y_test.shape)\n",
    "# print(X_train)"
   ]
  },
  {
   "cell_type": "markdown",
   "id": "4534ddfd",
   "metadata": {},
   "source": [
    "#### Linear Regression"
   ]
  },
  {
   "cell_type": "code",
   "execution_count": 270,
   "id": "8b3a2ba5",
   "metadata": {},
   "outputs": [
    {
     "data": {
      "text/html": [
       "<style>#sk-container-id-4 {color: black;background-color: white;}#sk-container-id-4 pre{padding: 0;}#sk-container-id-4 div.sk-toggleable {background-color: white;}#sk-container-id-4 label.sk-toggleable__label {cursor: pointer;display: block;width: 100%;margin-bottom: 0;padding: 0.3em;box-sizing: border-box;text-align: center;}#sk-container-id-4 label.sk-toggleable__label-arrow:before {content: \"▸\";float: left;margin-right: 0.25em;color: #696969;}#sk-container-id-4 label.sk-toggleable__label-arrow:hover:before {color: black;}#sk-container-id-4 div.sk-estimator:hover label.sk-toggleable__label-arrow:before {color: black;}#sk-container-id-4 div.sk-toggleable__content {max-height: 0;max-width: 0;overflow: hidden;text-align: left;background-color: #f0f8ff;}#sk-container-id-4 div.sk-toggleable__content pre {margin: 0.2em;color: black;border-radius: 0.25em;background-color: #f0f8ff;}#sk-container-id-4 input.sk-toggleable__control:checked~div.sk-toggleable__content {max-height: 200px;max-width: 100%;overflow: auto;}#sk-container-id-4 input.sk-toggleable__control:checked~label.sk-toggleable__label-arrow:before {content: \"▾\";}#sk-container-id-4 div.sk-estimator input.sk-toggleable__control:checked~label.sk-toggleable__label {background-color: #d4ebff;}#sk-container-id-4 div.sk-label input.sk-toggleable__control:checked~label.sk-toggleable__label {background-color: #d4ebff;}#sk-container-id-4 input.sk-hidden--visually {border: 0;clip: rect(1px 1px 1px 1px);clip: rect(1px, 1px, 1px, 1px);height: 1px;margin: -1px;overflow: hidden;padding: 0;position: absolute;width: 1px;}#sk-container-id-4 div.sk-estimator {font-family: monospace;background-color: #f0f8ff;border: 1px dotted black;border-radius: 0.25em;box-sizing: border-box;margin-bottom: 0.5em;}#sk-container-id-4 div.sk-estimator:hover {background-color: #d4ebff;}#sk-container-id-4 div.sk-parallel-item::after {content: \"\";width: 100%;border-bottom: 1px solid gray;flex-grow: 1;}#sk-container-id-4 div.sk-label:hover label.sk-toggleable__label {background-color: #d4ebff;}#sk-container-id-4 div.sk-serial::before {content: \"\";position: absolute;border-left: 1px solid gray;box-sizing: border-box;top: 0;bottom: 0;left: 50%;z-index: 0;}#sk-container-id-4 div.sk-serial {display: flex;flex-direction: column;align-items: center;background-color: white;padding-right: 0.2em;padding-left: 0.2em;position: relative;}#sk-container-id-4 div.sk-item {position: relative;z-index: 1;}#sk-container-id-4 div.sk-parallel {display: flex;align-items: stretch;justify-content: center;background-color: white;position: relative;}#sk-container-id-4 div.sk-item::before, #sk-container-id-4 div.sk-parallel-item::before {content: \"\";position: absolute;border-left: 1px solid gray;box-sizing: border-box;top: 0;bottom: 0;left: 50%;z-index: -1;}#sk-container-id-4 div.sk-parallel-item {display: flex;flex-direction: column;z-index: 1;position: relative;background-color: white;}#sk-container-id-4 div.sk-parallel-item:first-child::after {align-self: flex-end;width: 50%;}#sk-container-id-4 div.sk-parallel-item:last-child::after {align-self: flex-start;width: 50%;}#sk-container-id-4 div.sk-parallel-item:only-child::after {width: 0;}#sk-container-id-4 div.sk-dashed-wrapped {border: 1px dashed gray;margin: 0 0.4em 0.5em 0.4em;box-sizing: border-box;padding-bottom: 0.4em;background-color: white;}#sk-container-id-4 div.sk-label label {font-family: monospace;font-weight: bold;display: inline-block;line-height: 1.2em;}#sk-container-id-4 div.sk-label-container {text-align: center;}#sk-container-id-4 div.sk-container {/* jupyter's `normalize.less` sets `[hidden] { display: none; }` but bootstrap.min.css set `[hidden] { display: none !important; }` so we also need the `!important` here to be able to override the default hidden behavior on the sphinx rendered scikit-learn.org. See: https://github.com/scikit-learn/scikit-learn/issues/21755 */display: inline-block !important;position: relative;}#sk-container-id-4 div.sk-text-repr-fallback {display: none;}</style><div id=\"sk-container-id-4\" class=\"sk-top-container\"><div class=\"sk-text-repr-fallback\"><pre>LinearRegression()</pre><b>In a Jupyter environment, please rerun this cell to show the HTML representation or trust the notebook. <br />On GitHub, the HTML representation is unable to render, please try loading this page with nbviewer.org.</b></div><div class=\"sk-container\" hidden><div class=\"sk-item\"><div class=\"sk-estimator sk-toggleable\"><input class=\"sk-toggleable__control sk-hidden--visually\" id=\"sk-estimator-id-4\" type=\"checkbox\" checked><label for=\"sk-estimator-id-4\" class=\"sk-toggleable__label sk-toggleable__label-arrow\">LinearRegression</label><div class=\"sk-toggleable__content\"><pre>LinearRegression()</pre></div></div></div></div></div>"
      ],
      "text/plain": [
       "LinearRegression()"
      ]
     },
     "execution_count": 270,
     "metadata": {},
     "output_type": "execute_result"
    }
   ],
   "source": [
    "reg=linear_model.LinearRegression()\n",
    "model = reg.fit(X_train, y_train)\n",
    "model"
   ]
  },
  {
   "cell_type": "markdown",
   "id": "b1fd4e8f",
   "metadata": {},
   "source": [
    "### y = m1*x1 + m2*x2 + c"
   ]
  },
  {
   "cell_type": "code",
   "execution_count": 271,
   "id": "5ae03e64",
   "metadata": {},
   "outputs": [
    {
     "name": "stdout",
     "output_type": "stream",
     "text": [
      "[4253.84206089    6.64463813]\n"
     ]
    }
   ],
   "source": [
    "coefficients=model.coef_\n",
    "print(coefficients)"
   ]
  },
  {
   "cell_type": "code",
   "execution_count": 272,
   "id": "ebe5aec1",
   "metadata": {},
   "outputs": [
    {
     "name": "stdout",
     "output_type": "stream",
     "text": [
      "5229.672960314185\n"
     ]
    }
   ],
   "source": [
    "c = model.intercept_\n",
    "print(c)"
   ]
  },
  {
   "cell_type": "code",
   "execution_count": 273,
   "id": "434ddd79",
   "metadata": {},
   "outputs": [
    {
     "data": {
      "text/html": [
       "<div>\n",
       "<style scoped>\n",
       "    .dataframe tbody tr th:only-of-type {\n",
       "        vertical-align: middle;\n",
       "    }\n",
       "\n",
       "    .dataframe tbody tr th {\n",
       "        vertical-align: top;\n",
       "    }\n",
       "\n",
       "    .dataframe thead th {\n",
       "        text-align: right;\n",
       "    }\n",
       "</style>\n",
       "<table border=\"1\" class=\"dataframe\">\n",
       "  <thead>\n",
       "    <tr style=\"text-align: right;\">\n",
       "      <th></th>\n",
       "      <th>features</th>\n",
       "      <th>coefficients</th>\n",
       "    </tr>\n",
       "  </thead>\n",
       "  <tbody>\n",
       "    <tr>\n",
       "      <th>0</th>\n",
       "      <td>BHK</td>\n",
       "      <td>4253.842061</td>\n",
       "    </tr>\n",
       "    <tr>\n",
       "      <th>1</th>\n",
       "      <td>Size</td>\n",
       "      <td>6.644638</td>\n",
       "    </tr>\n",
       "  </tbody>\n",
       "</table>\n",
       "</div>"
      ],
      "text/plain": [
       "  features  coefficients\n",
       "0      BHK   4253.842061\n",
       "1     Size      6.644638"
      ]
     },
     "metadata": {},
     "output_type": "display_data"
    }
   ],
   "source": [
    "coef_df = pd.DataFrame({\"features\": X.columns, \n",
    "                       \"coefficients\": np.squeeze(coefficients)})\n",
    "\n",
    "display(coef_df)"
   ]
  },
  {
   "cell_type": "code",
   "execution_count": 274,
   "id": "77f5742e",
   "metadata": {},
   "outputs": [
    {
     "name": "stderr",
     "output_type": "stream",
     "text": [
      "C:\\Users\\ruhul.chowdhury\\AppData\\Local\\anaconda3\\lib\\site-packages\\sklearn\\base.py:420: UserWarning: X does not have valid feature names, but LinearRegression was fitted with feature names\n",
      "  warnings.warn(\n"
     ]
    },
    {
     "data": {
      "text/plain": [
       "array([48823.59373872])"
      ]
     },
     "execution_count": 274,
     "metadata": {},
     "output_type": "execute_result"
    }
   ],
   "source": [
    "reg.predict([[4,4000]])"
   ]
  },
  {
   "cell_type": "code",
   "execution_count": 275,
   "id": "b768a517",
   "metadata": {},
   "outputs": [
    {
     "data": {
      "text/plain": [
       "48310.52442451547"
      ]
     },
     "execution_count": 275,
     "metadata": {},
     "output_type": "execute_result"
    }
   ],
   "source": [
    "4571.03529419*4+6.29803899*4000+4834.22728775547"
   ]
  },
  {
   "cell_type": "code",
   "execution_count": 276,
   "id": "005641c5",
   "metadata": {},
   "outputs": [
    {
     "data": {
      "text/plain": [
       "array([27958.15634354, 11809.138368  , 29951.54778366, 12473.60218137,\n",
       "       21046.45902917, 25964.76490343, 13138.06599474, 13138.06599474,\n",
       "       10812.44264794, 17259.01529295, 13138.06599474, 19053.06758906,\n",
       "       15066.28470883, 19717.53140243, 17724.13996232, 21744.14603321,\n",
       "       27958.15634354, 12473.60218137, 38989.52930082, 19385.29949574,\n",
       "       17724.13996232, 12141.37027469, 12141.37027469, 10646.3266946 ,\n",
       "       12739.38770672, 16727.44424226, 18056.371869  , 13071.61961341,\n",
       "       26296.99681012, 12473.60218137, 12606.49494405, 23971.37346332,\n",
       "       21710.92284254, 40185.56416489, 18189.26463168, 18720.83568237,\n",
       "       24303.60537   , 22375.38665592, 13470.29790143, 20381.9952158 ,\n",
       "       29951.54778366, 17724.13996232, 20381.9952158 , 12141.37027469,\n",
       "       17724.13996232, 20049.76330912, 24635.83727669, 28921.62887293,\n",
       "       14134.7617148 , 14601.16003947, 19053.06758906, 13802.52980811,\n",
       "       22375.38665592, 29951.54778366, 18860.37308318, 21046.45902917,\n",
       "       23639.14155663, 26296.99681012, 27293.69253017, 20548.11116914,\n",
       "       18388.60377569, 26564.05599077, 13470.29790143, 31280.4754104 ,\n",
       "       22707.6185626 , 34602.79447726, 21710.92284254, 20381.9952158 ,\n",
       "       11476.90646131, 21046.45902917, 18056.371869  , 19053.06758906,\n",
       "       19053.06758906, 14799.22552817, 17391.90805563, 12805.83408806,\n",
       "       20415.21840647, 19053.06758906, 29287.08397029, 11144.67455463,\n",
       "       19053.06758906, 12805.83408806, 20249.10245313, 12141.37027469,\n",
       "       14335.37451412, 10440.34291246, 12805.83408806, 20381.9952158 ,\n",
       "       13138.06599474, 22375.38665592, 18142.75216474, 19053.06758906,\n",
       "       12805.83408806, 14734.05280214, 12141.37027469,  9775.87909908,\n",
       "       19916.87054644, 21710.92284254, 18056.371869  , 34869.85365792,\n",
       "       42112.50922366, 22375.38665592, 19717.53140243, 21046.45902917,\n",
       "       19053.06758906, 12473.60218137, 28954.8520636 , 11809.138368  ,\n",
       "       19717.53140243, 17059.67614894, 12041.70070268, 18920.17482638,\n",
       "       22043.15474923, 19053.06758906, 11476.90646131, 11609.79922399,\n",
       "       21046.45902917, 11476.90646131, 18521.49653836, 29287.08397029,\n",
       "       17724.13996232, 23704.31428266, 48823.59373872, 20049.76330912,\n",
       "       19385.29949574, 23039.85046929, 19053.06758906, 29287.08397029,\n",
       "       20714.22712249, 18587.9429197 , 12839.05727873, 20381.9952158 ,\n",
       "       12141.37027469, 19053.06758906, 18720.83568237, 18056.371869  ,\n",
       "       10480.21074126, 20381.9952158 , 49755.11673275, 29758.85327778,\n",
       "       19551.41544909, 19053.06758906, 11809.138368  , 23971.37346332,\n",
       "       21710.92284254, 24303.60537   , 21046.45902917, 19717.53140243,\n",
       "       13470.29790143, 29453.19992363, 28954.8520636 , 23372.08237597,\n",
       "       19717.53140243, 12141.37027469, 11510.12965198, 12639.71813471,\n",
       "       20381.9952158 , 19053.06758906, 20714.22712249, 13802.52980811,\n",
       "       17956.702297  , 13470.29790143, 20049.76330912, 21046.45902917,\n",
       "       17724.13996232, 14134.7617148 , 19053.06758906, 25964.76490343,\n",
       "       12473.60218137, 25632.53299674, 13204.51237608, 21710.92284254,\n",
       "       21710.92284254, 11144.67455463, 10147.97883457, 31944.93922377,\n",
       "       14001.86895213, 12805.83408806, 21710.92284254, 13370.62832942,\n",
       "       13470.29790143, 17059.67614894, 20381.9952158 , 12141.37027469,\n",
       "       19053.06758906, 18056.371869  , 13802.52980811, 30204.04403274,\n",
       "       21046.45902917, 12785.90017366, 17391.90805563, 21378.69093586,\n",
       "       12141.37027469, 18056.371869  , 18388.60377569, 19053.06758906,\n",
       "       18388.60377569, 18057.64552431, 18720.83568237, 18388.60377569,\n",
       "       24097.62158786, 18121.54459503, 18388.60377569, 12141.37027469,\n",
       "       27718.94937073, 14401.82089546, 31280.4754104 , 21378.69093586,\n",
       "       12141.37027469, 16395.21233557, 17391.90805563, 17724.13996232,\n",
       "       38192.17272477, 19053.06758906, 17724.13996232, 23704.31428266,\n",
       "       17059.67614894, 27293.69253017, 14401.82089546, 29951.54778366,\n",
       "       21710.92284254, 20381.9952158 , 17724.13996232, 18288.93420368,\n",
       "       12805.83408806, 18056.371869  , 21046.45902917, 19053.06758906,\n",
       "       11809.138368  , 28954.8520636 , 24968.06918337, 11543.35284265,\n",
       "       21710.92284254, 18388.60377569, 17724.13996232, 22375.38665592,\n",
       "       21710.92284254, 12473.60218137, 12805.83408806, 18521.49653836,\n",
       "       13443.71934889, 12473.60218137, 20381.9952158 , 14069.58898877,\n",
       "       10978.55860129, 12540.04856271, 19053.06758906, 12805.83408806,\n",
       "       23971.37346332, 18182.61999354, 14268.92813278, 18388.60377569,\n",
       "       20780.67350382, 21046.45902917, 13470.29790143, 20049.76330912,\n",
       "       12805.83408806, 13470.29790143, 22043.15474923, 22043.15474923,\n",
       "       18720.83568237, 14001.86895213, 19053.06758906, 12141.37027469,\n",
       "       14136.03537011, 14235.70494211, 19916.87054644, 17657.69358098,\n",
       "       18720.83568237, 19053.06758906, 26629.2287168 , 14069.58898877,\n",
       "       11350.65833677, 18056.371869  , 25964.76490343, 29951.54778366,\n",
       "       21710.92284254, 22202.62606444, 24635.83727669, 14169.25856078,\n",
       "       25964.76490343, 18388.60377569, 20381.9952158 , 17790.58634365,\n",
       "       19053.06758906, 14799.22552817, 23971.37346332, 27293.69253017,\n",
       "       18720.83568237, 11476.90646131, 12274.26303736, 20049.76330912,\n",
       "       13138.06599474, 17724.13996232, 32609.40303714, 12141.37027469,\n",
       "       18388.60377569, 20521.53261661, 25964.76490343, 21046.45902917,\n",
       "       26795.34467014, 27958.15634354, 31280.4754104 , 12473.60218137,\n",
       "       19717.53140243, 19385.29949574, 16727.44424226, 12805.83408806,\n",
       "       12473.60218137, 19385.29949574, 18388.60377569, 12805.83408806,\n",
       "       10679.54988527, 21046.45902917, 19385.29949574, 20381.9952158 ,\n",
       "       19252.40673307, 27958.15634354, 19187.23400704, 25964.76490343,\n",
       "       13470.29790143, 49357.71210003, 20049.76330912, 11144.67455463,\n",
       "       18388.60377569, 29187.41439828, 13071.61961341, 19717.53140243,\n",
       "       28622.62015692, 12805.83408806, 29951.54778366, 21046.45902917,\n",
       "       13138.06599474, 24635.83727669, 19385.29949574, 18056.371869  ,\n",
       "       28622.62015692, 27586.05660806, 18521.49653836, 27027.90700482,\n",
       "       18388.60377569, 35866.54937797, 20049.76330912, 18056.371869  ,\n",
       "       12805.83408806, 12473.60218137, 20381.9952158 , 29951.54778366,\n",
       "       18288.93420368, 19717.53140243, 17724.13996232, 33938.33066389,\n",
       "       19053.06758906, 25697.70572277, 21710.92284254, 20049.76330912,\n",
       "       13138.06599474, 29878.45676419, 17059.67614894, 17391.90805563,\n",
       "       11244.34412663, 27293.69253017, 14134.7617148 , 19717.53140243,\n",
       "       13071.61961341, 26296.99681012, 21850.46024335, 18122.81825034,\n",
       "       33939.6043192 , 21445.1373172 , 19053.06758906, 19385.29949574,\n",
       "       27958.15634354, 23473.02560329, 27958.15634354, 17724.13996232,\n",
       "       26502.98059226, 25067.73875538, 19385.29949574, 14136.03537011,\n",
       "       14134.7617148 , 28124.27229689, 18720.83568237, 20381.9952158 ,\n",
       "       18720.83568237, 18388.60377569, 24052.38277623, 12274.26303736,\n",
       "       20288.97028193, 23971.37346332, 12473.60218137, 26296.99681012,\n",
       "       18322.15739435, 12805.83408806, 18388.60377569, 27958.15634354,\n",
       "       25765.42575942, 13802.52980811, 21046.45902917, 19551.41544909,\n",
       "       18122.81825034, 19551.41544909, 13138.06599474, 14799.22552817,\n",
       "       13802.52980811, 22375.38665592, 12805.83408806, 19053.06758906,\n",
       "       18788.55571902, 18388.60377569, 18288.93420368, 20381.9952158 ,\n",
       "       20049.76330912, 18667.6785773 , 18455.05015702, 11144.67455463,\n",
       "       19086.29077973, 18722.10933768, 21710.92284254, 18720.83568237,\n",
       "       10812.44264794, 18388.60377569, 23704.31428266, 27958.15634354,\n",
       "       17724.13996232, 20381.9952158 , 19053.06758906, 42713.07396632,\n",
       "       29287.08397029, 20381.9952158 , 19717.53140243, 15066.28470883,\n",
       "       18388.60377569, 12141.37027469, 27958.15634354, 26197.32723811,\n",
       "       21710.92284254, 13742.72806491, 17059.67614894, 28622.62015692,\n",
       "       19352.07630508, 18388.60377569, 11809.138368  , 12141.37027469,\n",
       "       27459.80848352, 19385.29949574, 12141.37027469, 10812.44264794,\n",
       "       18388.60377569, 19717.53140243, 16926.78338627, 24303.60537   ,\n",
       "       18654.38930104, 19385.29949574, 12141.37027469, 12141.37027469,\n",
       "       19717.53140243, 20847.11988516, 20049.76330912, 19717.53140243,\n",
       "       21046.45902917, 19717.53140243, 17724.13996232, 12187.88274162,\n",
       "       20049.76330912, 22043.15474923, 13304.18194809, 17724.13996232,\n",
       "       25300.30109006, 11809.138368  , 27958.15634354, 14401.82089546,\n",
       "       21312.24455452, 11875.58474934, 19053.06758906, 16395.21233557,\n",
       "       11144.67455463, 12805.83408806, 18455.05015702, 19651.08502109,\n",
       "       20913.5662665 , 12473.60218137, 20581.33435981, 23704.31428266,\n",
       "       28622.62015692, 18388.60377569, 12805.83408806, 21046.45902917,\n",
       "       20381.9952158 , 13470.29790143, 24368.77809603, 21378.69093586,\n",
       "       12473.60218137, 16727.44424226, 12473.60218137, 27958.15634354,\n",
       "       19219.1835424 , 20381.9952158 , 23386.64530755, 20381.9952158 ,\n",
       "       18720.83568237, 32876.4622178 , 18920.17482638, 25300.30109006,\n",
       "       13470.29790143, 17857.03272499, 29951.54778366, 21710.92284254,\n",
       "       19086.29077973, 27493.03167418, 14134.7617148 , 19053.06758906,\n",
       "       25697.70572277, 12805.83408806, 17724.13996232, 21710.92284254,\n",
       "       19053.06758906, 24635.83727669, 27625.92443686, 14235.70494211,\n",
       "       32609.40303714, 18056.371869  , 15066.28470883, 19252.40673307,\n",
       "       11476.90646131, 17724.13996232, 17857.03272499, 13802.52980811,\n",
       "       31280.4754104 , 18514.85190023, 12473.60218137, 25679.04546368,\n",
       "       25964.76490343, 11144.67455463, 12274.26303736, 22043.15474923,\n",
       "       20049.76330912, 30283.77969034, 18388.60377569, 18322.15739435,\n",
       "       12307.48622803, 20913.5662665 , 23306.90964994, 14368.59770479,\n",
       "       11809.138368  , 14134.7617148 , 27625.92443686, 21710.92284254,\n",
       "       18388.60377569, 13470.29790143, 12506.82537204, 12473.60218137,\n",
       "       17059.67614894, 12938.72685073, 20381.9952158 , 38192.17272477,\n",
       "       12141.37027469, 19053.06758906, 18388.60377569, 19896.93663204,\n",
       "       12805.83408806, 18388.60377569, 16395.21233557, 28622.62015692,\n",
       "       11842.36155867, 12473.60218137, 18720.83568237, 31547.53459106,\n",
       "       27625.92443686, 34205.38984454, 18521.49653836, 18987.89486303,\n",
       "       17724.13996232, 28290.38825023, 12141.37027469, 25300.30109006,\n",
       "       22043.15474923, 11476.90646131, 27958.15634354, 21378.69093586,\n",
       "       17724.13996232, 17059.67614894, 12540.04856271, 21378.69093586,\n",
       "       11476.90646131, 18189.26463168, 11476.90646131, 11476.90646131,\n",
       "       12805.83408806, 20381.9952158 , 17989.92548766, 19385.29949574,\n",
       "       19053.06758906, 21710.92284254, 18720.83568237, 12805.83408806,\n",
       "       12141.37027469, 29951.54778366, 18056.371869  , 21710.92284254,\n",
       "       20182.65607179, 17724.13996232, 16727.44424226, 12872.28046939,\n",
       "       17724.13996232, 20049.76330912, 12141.37027469, 17724.13996232,\n",
       "       19385.29949574, 18720.83568237, 18056.371869  , 11476.90646131,\n",
       "       19717.53140243, 19717.53140243, 20282.3256438 , 29154.19120761,\n",
       "       20381.9952158 , 26296.99681012, 20049.76330912, 11609.79922399,\n",
       "       12141.37027469, 12805.83408806, 19717.53140243, 14189.19247518,\n",
       "       21710.92284254, 22242.49389324, 20514.88797848, 12739.38770672,\n",
       "       18880.30699758, 18388.60377569, 19717.53140243, 19717.53140243,\n",
       "       19717.53140243, 23039.85046929, 10480.21074126, 13370.62832942,\n",
       "       12805.83408806, 31014.68988505, 22974.67774326, 11144.67455463,\n",
       "       19318.85311441, 10945.33541062, 30283.77969034, 12141.37027469,\n",
       "       19053.06758906, 28622.62015692, 27293.69253017, 29938.25850739,\n",
       "        9882.19330922, 21378.69093586, 20381.9952158 , 12506.82537204,\n",
       "       12805.83408806, 20381.9952158 , 20714.22712249, 18056.371869  ,\n",
       "       14401.82089546, 31280.4754104 , 13802.52980811, 27625.92443686,\n",
       "       23971.37346332, 10546.65712259, 10978.55860129, 11144.67455463,\n",
       "       23971.37346332, 18388.60377569, 19717.53140243, 12473.60218137,\n",
       "       21710.92284254, 22043.15474923, 19087.56443504, 29951.54778366,\n",
       "       25697.70572277, 19850.4241651 , 11809.138368  , 30218.60696432,\n",
       "       13470.29790143, 19385.29949574, 17059.67614894, 18720.83568237,\n",
       "       23039.85046929, 23835.93339002, 18056.371869  , 27931.57779101,\n",
       "       31280.4754104 , 11809.138368  , 12141.37027469, 12805.83408806,\n",
       "       28622.62015692, 21710.92284254, 19717.53140243, 18388.60377569,\n",
       "       17724.13996232, 23039.85046929, 24635.83727669, 21046.45902917,\n",
       "       35739.02759812, 19053.06758906, 20813.89669449, 18720.83568237,\n",
       "       21710.92284254, 28225.2155242 , 20381.9952158 , 21378.69093586,\n",
       "       18720.83568237, 28622.62015692, 18036.4379546 , 21710.92284254,\n",
       "       18760.70351117, 22108.32747526, 24368.77809603, 12739.38770672,\n",
       "       19717.53140243, 19053.06758906, 26762.12147948, 13470.29790143,\n",
       "       21046.45902917, 17391.90805563, 30283.77969034, 13470.29790143,\n",
       "       21378.69093586, 15066.28470883, 18920.17482638, 20381.9952158 ,\n",
       "       17724.13996232, 29951.54778366, 14601.16003947, 12473.60218137,\n",
       "       20381.9952158 , 12141.37027469, 12639.71813471, 17059.67614894,\n",
       "       34869.85365792, 23639.14155663, 18056.371869  , 17059.67614894,\n",
       "       11809.138368  , 12473.60218137, 21046.45902917, 25300.30109006,\n",
       "       13138.06599474, 11875.58474934, 26296.99681012, 19053.06758906,\n",
       "       12473.60218137, 12805.83408806, 29951.54778366, 11676.24560533,\n",
       "       27958.15634354, 20381.9952158 , 22375.38665592, 13470.29790143,\n",
       "       20381.9952158 , 13802.52980811, 12473.60218137, 12805.83408806,\n",
       "       21046.45902917, 14295.50668532, 18455.05015702, 21212.57498252,\n",
       "       17890.25591566, 23039.85046929, 17059.67614894, 19750.7545931 ,\n",
       "       12274.26303736, 18920.17482638, 19053.06758906, 15863.64128487,\n",
       "       11809.138368  , 28622.62015692, 12805.83408806, 18455.05015702,\n",
       "       20381.9952158 , 10812.44264794, 21511.58369853, 25964.76490343,\n",
       "       26961.46062349, 15463.68934154, 29287.08397029, 13470.29790143,\n",
       "       18720.83568237, 11476.90646131, 21046.45902917, 12473.60218137,\n",
       "       21046.45902917, 20820.54133263, 20049.76330912, 27026.63334952,\n",
       "       20381.9952158 , 17458.35443697, 19053.06758906, 18388.60377569,\n",
       "       18388.60377569, 19053.06758906, 17391.90805563, 10812.44264794,\n",
       "       20381.9952158 , 25300.30109006, 20381.9952158 , 12141.37027469,\n",
       "       21710.92284254, 13138.06599474, 12141.37027469, 28642.55407132,\n",
       "       16660.99786092, 12141.37027469, 18714.19104424, 12473.60218137,\n",
       "       20381.9952158 , 18388.60377569, 25300.30109006, 13470.29790143,\n",
       "       17724.13996232, 28954.8520636 , 19385.29949574, 37925.11354412,\n",
       "       17724.13996232, 14368.59770479, 18388.60377569, 19073.00150346,\n",
       "       29758.85327778, 21312.24455452, 18056.371869  , 13138.06599474,\n",
       "       13138.06599474, 27625.92443686, 21710.92284254, 18720.83568237,\n",
       "       20381.9952158 , 20647.78074115, 20381.9952158 , 10480.21074126,\n",
       "       31280.4754104 , 17524.8008183 , 28642.55407132, 32675.84941848,\n",
       "       17391.90805563, 12141.37027469, 14235.70494211, 12141.37027469,\n",
       "       21378.69093586, 12008.47751201, 29951.54778366, 23306.90964994,\n",
       "       19053.06758906, 19677.66357363])"
      ]
     },
     "execution_count": 276,
     "metadata": {},
     "output_type": "execute_result"
    }
   ],
   "source": [
    "y_pred=reg.predict(X_test)\n",
    "y_pred"
   ]
  },
  {
   "cell_type": "code",
   "execution_count": 277,
   "id": "c76c6980",
   "metadata": {},
   "outputs": [
    {
     "data": {
      "text/plain": [
       "pandas.core.series.Series"
      ]
     },
     "execution_count": 277,
     "metadata": {},
     "output_type": "execute_result"
    }
   ],
   "source": [
    "# print(y_predict,'===',y_test)\n",
    "type(y_pred)\n",
    "type(y_test)"
   ]
  },
  {
   "cell_type": "markdown",
   "id": "8e7d4506",
   "metadata": {},
   "source": [
    "#### Performance Evaluation\n",
    "- Prediction Error\n",
    "- Goodness of fit"
   ]
  },
  {
   "cell_type": "code",
   "execution_count": 278,
   "id": "ce47ea15",
   "metadata": {},
   "outputs": [
    {
     "name": "stdout",
     "output_type": "stream",
     "text": [
      "MAE =  9314.370100279957\n",
      "MSE =  151314056.72733378\n",
      "RMSE =  12300.977876873601\n",
      "r_squared =  0.2108434730359663\n"
     ]
    }
   ],
   "source": [
    "MAE = mean_absolute_error(y_test, y_pred)\n",
    "print(\"MAE = \", MAE)\n",
    "\n",
    "MSE = mean_squared_error(y_test, y_pred, squared=True)\n",
    "print(\"MSE = \", MSE)\n",
    "\n",
    "RMSE = mean_squared_error(y_test, y_pred, squared=False)\n",
    "print(\"RMSE = \", RMSE)\n",
    "\n",
    "r2 = r2_score(y_test, y_pred)#Goodness of fit-coefficent of determination\n",
    "print(\"r_squared = \", r2)"
   ]
  },
  {
   "cell_type": "markdown",
   "id": "562da3a0",
   "metadata": {},
   "source": [
    "**Mean absolute error** represents the average of the absolute difference between the actual and predicted values in the dataset. It measures the average of the residuals in the dataset.\n",
    "<br>**Mean Squared Error** represents the average of the squared difference between the original and predicted values in the data set. It measures the variance of the residuals.\n",
    "<br>**Root Mean Squared Error** is the square root of Mean Squared error. It measures the standard deviation of residuals.\n",
    "<br>**Coefficient of determination or R-squared** represents the proportion of the variance in the dependent variable. It is a scale-free score i.e. irrespective of the values being small or large, the value of R square will be less than one."
   ]
  },
  {
   "cell_type": "markdown",
   "id": "d1acd87b",
   "metadata": {},
   "source": [
    "# Compare the predicted target values with actual value"
   ]
  },
  {
   "cell_type": "code",
   "execution_count": 279,
   "id": "bfa30c6d",
   "metadata": {},
   "outputs": [
    {
     "data": {
      "text/html": [
       "<div>\n",
       "<style scoped>\n",
       "    .dataframe tbody tr th:only-of-type {\n",
       "        vertical-align: middle;\n",
       "    }\n",
       "\n",
       "    .dataframe tbody tr th {\n",
       "        vertical-align: top;\n",
       "    }\n",
       "\n",
       "    .dataframe thead th {\n",
       "        text-align: right;\n",
       "    }\n",
       "</style>\n",
       "<table border=\"1\" class=\"dataframe\">\n",
       "  <thead>\n",
       "    <tr style=\"text-align: right;\">\n",
       "      <th></th>\n",
       "      <th>Rent_actual</th>\n",
       "      <th>Rent_predicted</th>\n",
       "    </tr>\n",
       "  </thead>\n",
       "  <tbody>\n",
       "    <tr>\n",
       "      <th>1998</th>\n",
       "      <td>22000</td>\n",
       "      <td>27958.156344</td>\n",
       "    </tr>\n",
       "    <tr>\n",
       "      <th>3190</th>\n",
       "      <td>5000</td>\n",
       "      <td>11809.138368</td>\n",
       "    </tr>\n",
       "    <tr>\n",
       "      <th>2670</th>\n",
       "      <td>37000</td>\n",
       "      <td>29951.547784</td>\n",
       "    </tr>\n",
       "    <tr>\n",
       "      <th>4647</th>\n",
       "      <td>8000</td>\n",
       "      <td>12473.602181</td>\n",
       "    </tr>\n",
       "    <tr>\n",
       "      <th>4488</th>\n",
       "      <td>15000</td>\n",
       "      <td>21046.459029</td>\n",
       "    </tr>\n",
       "  </tbody>\n",
       "</table>\n",
       "</div>"
      ],
      "text/plain": [
       "      Rent_actual  Rent_predicted\n",
       "1998        22000    27958.156344\n",
       "3190         5000    11809.138368\n",
       "2670        37000    29951.547784\n",
       "4647         8000    12473.602181\n",
       "4488        15000    21046.459029"
      ]
     },
     "execution_count": 279,
     "metadata": {},
     "output_type": "execute_result"
    }
   ],
   "source": [
    "rent = pd.DataFrame({\"Rent_actual\":y_test,\n",
    "                   \"Rent_predicted\": y_pred})\n",
    "\n",
    "rent.head()"
   ]
  },
  {
   "cell_type": "code",
   "execution_count": 280,
   "id": "c0e5249c",
   "metadata": {},
   "outputs": [
    {
     "data": {
      "image/png": "[encoded data removed]",
      "text/plain": [
       "<Figure size 640x480 with 1 Axes>"
      ]
     },
     "metadata": {},
     "output_type": "display_data"
    },
    {
     "data": {
      "text/plain": [
       "<Figure size 640x480 with 0 Axes>"
      ]
     },
     "metadata": {},
     "output_type": "display_data"
    }
   ],
   "source": [
    "plt.scatter(rent['Rent_actual'],rent['Rent_predicted'], color = 'green', alpha = 0.3)\n",
    "plt.plot(rent['Rent_actual'],rent['Rent_actual'], color = 'red', alpha = 1)\n",
    "plt.legend(['Actual Rent','Predicted Rent'])\n",
    "\n",
    "plt.xlabel('Actual Rent')\n",
    "plt.ylabel('Predicted Rent')\n",
    "plt.title('Actual Rent vs Predicte Rent')\n",
    "plt.show()\n",
    "plt.tight_layout()"
   ]
  },
  {
   "cell_type": "code",
   "execution_count": null,
   "id": "9c6e245a",
   "metadata": {},
   "outputs": [],
   "source": []
  }
 ],
 "metadata": {
  "kernelspec": {
   "display_name": "Python 3 (ipykernel)",
   "language": "python",
   "name": "python3"
  },
  "language_info": {
   "codemirror_mode": {
    "name": "ipython",
    "version": 3
   },
   "file_extension": ".py",
   "mimetype": "text/x-python",
   "name": "python",
   "nbconvert_exporter": "python",
   "pygments_lexer": "ipython3",
   "version": "3.10.9"
  }
 },
 "nbformat": 4,
 "nbformat_minor": 5
}
